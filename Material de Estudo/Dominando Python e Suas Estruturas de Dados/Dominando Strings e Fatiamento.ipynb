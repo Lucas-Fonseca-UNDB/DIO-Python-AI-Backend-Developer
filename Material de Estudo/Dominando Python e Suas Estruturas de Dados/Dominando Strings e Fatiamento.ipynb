{
 "cells": [
  {
   "cell_type": "markdown",
   "id": "7545727c",
   "metadata": {},
   "source": [
    "# Conhecendo Métodos Úteis da Classe String"
   ]
  },
  {
   "cell_type": "markdown",
   "id": "7f078a71",
   "metadata": {},
   "source": [
    "A <b>classe String</b> é uma parte fundamental da programação em várias linguagens, incluindo Python. Ela representa uma sequência de caracteres e oferece diversos métodos para manipular e processar essas sequências."
   ]
  },
  {
   "cell_type": "markdown",
   "id": "31df5350",
   "metadata": {},
   "source": [
    "<h3>Os métodos <b>lower()</b>, <b>upper()</b> e <b>title()</b></h3> \n",
    "<br>\n",
    "Convertem a string para minúsculas, maiúsculas e título respectivamente."
   ]
  },
  {
   "cell_type": "code",
   "execution_count": 1,
   "id": "86021c38",
   "metadata": {},
   "outputs": [
    {
     "name": "stdout",
     "output_type": "stream",
     "text": [
      "Feitiço em minúsculas: infinite void!\n"
     ]
    }
   ],
   "source": [
    "feitiço = \"Infinite Void!\"\n",
    "feitiço_minusculo = feitiço.lower()\n",
    "print(f\"Feitiço em minúsculas: {feitiço_minusculo}\")\n",
    "# Saída: \"Feitiço em minúsculas: infinite void!\"\n"
   ]
  },
  {
   "cell_type": "code",
   "execution_count": 2,
   "id": "216da999",
   "metadata": {},
   "outputs": [
    {
     "name": "stdout",
     "output_type": "stream",
     "text": [
      "Feitiço em maiúscula: INFINITE VOID!\n"
     ]
    }
   ],
   "source": [
    "feitiço = \"Infinite Void!\"\n",
    "feitiço_maiuscula = feitiço.upper()\n",
    "print(f\"Feitiço em maiúscula: {feitiço_maiuscula}\")\n",
    "# Saída: \"Feitiço em maiúscula: INFINITE VOID!\"\n"
   ]
  },
  {
   "cell_type": "code",
   "execution_count": 3,
   "id": "cd652eb3",
   "metadata": {},
   "outputs": [
    {
     "name": "stdout",
     "output_type": "stream",
     "text": [
      "Feitiço em Título: Infinite Void!\n"
     ]
    }
   ],
   "source": [
    "feitiço = \"Infinite Void!\"\n",
    "feitiço_titulo = feitiço.title()\n",
    "print(f\"Feitiço em Título: {feitiço_titulo}\")\n",
    "# Saída: \"Feitiço em título: Infinite Void!\"\n"
   ]
  },
  {
   "cell_type": "markdown",
   "id": "ded9d542",
   "metadata": {},
   "source": [
    "<h3>Os métodos <b>strip(), lstrip()</b> e <b>rstrip()</b>.</h3>\n",
    "<br>\n",
    "Remove os caracteres especificados (ou espaços em branco por padrão) da string toda, no início e no final respectivamente."
   ]
  },
  {
   "cell_type": "code",
   "execution_count": 4,
   "id": "1ac9fc9b",
   "metadata": {},
   "outputs": [
    {
     "name": "stdout",
     "output_type": "stream",
     "text": [
      "Gojo Satoru\n"
     ]
    }
   ],
   "source": [
    "nome_com_lixo = \"*****Gojo Satoru*****\"\n",
    "nome_limpo = nome_com_lixo.strip(\"*\")\n",
    "print(nome_limpo)  # Saída: Gojo Satoru"
   ]
  },
  {
   "cell_type": "code",
   "execution_count": 5,
   "id": "af4e528b",
   "metadata": {},
   "outputs": [
    {
     "name": "stdout",
     "output_type": "stream",
     "text": [
      "Gojo Satoru\n"
     ]
    }
   ],
   "source": [
    "nome_com_espacos = \"      Gojo Satoru\"\n",
    "nome_sem_espacos_inicio = nome_com_espacos.lstrip()\n",
    "print(nome_sem_espacos_inicio)  # Saída: Gojo Satoru"
   ]
  },
  {
   "cell_type": "code",
   "execution_count": 6,
   "id": "b71ae2da",
   "metadata": {},
   "outputs": [
    {
     "name": "stdout",
     "output_type": "stream",
     "text": [
      "Gojo Satoru\n"
     ]
    }
   ],
   "source": [
    "nome_com_exclamacoes = \"Gojo Satoru!!!!\"\n",
    "nome_sem_exclamacoes = nome_com_exclamacoes.rstrip(\"!\")\n",
    "print(nome_sem_exclamacoes)  # Saída: Gojo Satoru"
   ]
  },
  {
   "cell_type": "markdown",
   "id": "6211647f",
   "metadata": {},
   "source": [
    "<h3>O método <b>center()</b></h3>\n",
    "<br>\n",
    "Centralizando uma string em um espaço maior. Ele adiciona caracteres (por padrão, espaços) em ambos os lados da string até que ela esteja centralizada."
   ]
  },
  {
   "cell_type": "code",
   "execution_count": 7,
   "id": "a48efb91",
   "metadata": {},
   "outputs": [
    {
     "name": "stdout",
     "output_type": "stream",
     "text": [
      "'        Gojo        '\n",
      "'********Gojo********'\n"
     ]
    }
   ],
   "source": [
    "texto = \"Gojo\"\n",
    "texto_centralizado = texto.center(20)  # Centraliza 'Gojo' em uma string de comprimento 20\n",
    "print(f\"'{texto_centralizado}'\")  # Output: '        Gojo        '\n",
    "\n",
    "# Usando um caractere específico para preenchimento\n",
    "texto_centralizado_com_asteriscos = texto.center(20, '*')\n",
    "print(f\"'{texto_centralizado_com_asteriscos}'\")  # Output: '********Gojo********'\n"
   ]
  },
  {
   "cell_type": "markdown",
   "id": "949e475f",
   "metadata": {},
   "source": [
    "<h3>O método <b>join()</b></h3> \n",
    "<br>\n",
    "Conectando várias strings em uma só. Ele pega um iterável (como uma lista ou uma tupla) e une seus elementos com uma string específica no meio."
   ]
  },
  {
   "cell_type": "code",
   "execution_count": 8,
   "id": "aa903afb",
   "metadata": {},
   "outputs": [
    {
     "name": "stdout",
     "output_type": "stream",
     "text": [
      "O infinito está à minha frente\n"
     ]
    }
   ],
   "source": [
    "# Vamos unir palavras com um espaço em branco\n",
    "palavras = ['O', 'infinito', 'está', 'à', 'minha', 'frente']\n",
    "frase = ' '.join(palavras)\n",
    "print(frase)  # Output: \"O infinito está à minha frente\"\n"
   ]
  },
  {
   "cell_type": "markdown",
   "id": "39ffd4b4",
   "metadata": {},
   "source": [
    "# Interpolação de Variáreis"
   ]
  },
  {
   "cell_type": "markdown",
   "id": "65cfef13",
   "metadata": {},
   "source": [
    "A interpolação de variáveis em Python, uma técnica muito útil para inserir valores dentro de strings."
   ]
  },
  {
   "cell_type": "markdown",
   "id": "73341d35",
   "metadata": {},
   "source": [
    "<h3>Operador de Formatação <b>(%)</b></h3>\n",
    "<br>\n",
    "Esta é uma técnica clássica, mas ainda poderosa. "
   ]
  },
  {
   "cell_type": "code",
   "execution_count": 9,
   "id": "cd96222d",
   "metadata": {},
   "outputs": [
    {
     "name": "stdout",
     "output_type": "stream",
     "text": [
      "Meu nome é Gojo e eu tenho 28 anos.\n"
     ]
    }
   ],
   "source": [
    "nome = \"Gojo\"\n",
    "idade = 28\n",
    "frase = \"Meu nome é %s e eu tenho %d anos.\" % (nome, idade)\n",
    "print(frase)  # Output: \"Meu nome é Gojo e eu tenho 28 anos.\"\n"
   ]
  },
  {
   "cell_type": "markdown",
   "id": "b619391c",
   "metadata": {},
   "source": [
    "%s: Formata como string (str)\n",
    "<br>\n",
    "%d: Formata como número decimal inteiro (int)\n",
    "<br>\n",
    "%f: Formata como número de ponto flutuante (float)\n",
    "<br>\n",
    "%.2f: Formata como número de ponto flutuante com 2 casas decimais\n",
    "<br>\n",
    "%x: Formata como número hexadecimal \n",
    "<br>\n",
    "%e: Formata como número de ponto flutuante em notação científica \n",
    "\n"
   ]
  },
  {
   "cell_type": "code",
   "execution_count": 10,
   "id": "4ab9fc2c",
   "metadata": {},
   "outputs": [
    {
     "name": "stdout",
     "output_type": "stream",
     "text": [
      "Meu nome é Gojo, eu tenho 28 anos, minha altura é 1.85 metros, e o número 255 em hexadecimal é FF.\n"
     ]
    }
   ],
   "source": [
    "nome = \"Gojo\"\n",
    "idade = 28\n",
    "altura = 1.85\n",
    "numero = 255\n",
    "\n",
    "frase = \"Meu nome é %s, eu tenho %d anos, minha altura é %.2f metros, e o número %d em hexadecimal é %X.\" % (nome, idade, altura, numero, numero)\n",
    "print(frase)\n",
    "# Output: \"Meu nome é Gojo, eu tenho 28 anos, minha altura é 1.85 metros, e o número 255 em hexadecimal é FF.\"\n"
   ]
  },
  {
   "cell_type": "markdown",
   "id": "00c8cfc8",
   "metadata": {},
   "source": [
    "<h3>Método <b>format()</b></h3>\n",
    "<br>\n",
    "O método format() é um pouco mais flexível e poderoso."
   ]
  },
  {
   "cell_type": "code",
   "execution_count": 11,
   "id": "e94ea8f7",
   "metadata": {},
   "outputs": [
    {
     "name": "stdout",
     "output_type": "stream",
     "text": [
      "Meu nome é Gojo e eu tenho 28 anos.\n",
      "Meu nome é Gojo e eu tenho 28 anos. Gojo é um feiticeiro poderoso.\n"
     ]
    }
   ],
   "source": [
    "nome = \"Gojo\"\n",
    "idade = 28\n",
    "frase = \"Meu nome é {} e eu tenho {} anos.\".format(nome, idade)\n",
    "print(frase)  # Output: \"Meu nome é Gojo e eu tenho 28 anos.\"\n",
    "\n",
    "# Também pode especificar índices\n",
    "frase = \"Meu nome é {0} e eu tenho {1} anos. {0} é um feiticeiro poderoso.\".format(nome, idade)\n",
    "print(frase)  # Output: \"Meu nome é Gojo e eu tenho 28 anos. Gojo é um feiticeiro poderoso.\"\n"
   ]
  },
  {
   "cell_type": "markdown",
   "id": "725c2405",
   "metadata": {},
   "source": [
    "<h3><b>F-strings</b> (Strings Literais Formatadas)</h3>\n",
    "<br>\n",
    "As f-strings são a técnica mais moderna e poderosa."
   ]
  },
  {
   "cell_type": "code",
   "execution_count": 12,
   "id": "d0081979",
   "metadata": {},
   "outputs": [
    {
     "name": "stdout",
     "output_type": "stream",
     "text": [
      "Meu nome é Gojo e eu tenho 28 anos.\n",
      "Daqui a cinco anos, Gojo terá 33 anos.\n"
     ]
    }
   ],
   "source": [
    "nome = \"Gojo\"\n",
    "idade = 28\n",
    "frase = f\"Meu nome é {nome} e eu tenho {idade} anos.\"\n",
    "print(frase)  # Output: \"Meu nome é Gojo e eu tenho 28 anos.\"\n",
    "\n",
    "# Você também pode usar expressões dentro das f-strings\n",
    "frase = f\"Daqui a cinco anos, {nome} terá {idade + 5} anos.\"\n",
    "print(frase)  # Output: \"Daqui a cinco anos, Gojo terá 33 anos.\"\n"
   ]
  },
  {
   "cell_type": "markdown",
   "id": "be480058",
   "metadata": {},
   "source": [
    "<h1>Fatiamento de String</h1>"
   ]
  },
  {
   "cell_type": "markdown",
   "id": "fa9de326",
   "metadata": {},
   "source": [
    "Uma técnica fundamental para manipular e acessar partes de strings. O fatiamento permite que você extraia substrings de uma string usando a notação de colchetes."
   ]
  },
  {
   "cell_type": "markdown",
   "id": "75f1d036",
   "metadata": {},
   "source": [
    "<h2>Sintaxe Básica</h2>"
   ]
  },
  {
   "cell_type": "code",
   "execution_count": null,
   "id": "c60beaab",
   "metadata": {},
   "outputs": [],
   "source": [
    "string[início:fim:passo]"
   ]
  },
  {
   "cell_type": "markdown",
   "id": "522d55cf",
   "metadata": {},
   "source": [
    "Vamos usar a string \"Jujutsu Kaisen\" como exemplo."
   ]
  },
  {
   "cell_type": "code",
   "execution_count": 13,
   "id": "0ff017ea",
   "metadata": {},
   "outputs": [],
   "source": [
    "s = \"Jujutsu Kaisen\""
   ]
  },
  {
   "cell_type": "markdown",
   "id": "7af669f8",
   "metadata": {},
   "source": [
    "<b>Somente um Caracter</b>"
   ]
  },
  {
   "cell_type": "code",
   "execution_count": 14,
   "id": "6e046103",
   "metadata": {},
   "outputs": [
    {
     "name": "stdout",
     "output_type": "stream",
     "text": [
      "J\n"
     ]
    }
   ],
   "source": [
    "parte0 = s[0]\n",
    "print(parte0)  # Output: \"J\""
   ]
  },
  {
   "cell_type": "markdown",
   "id": "b1bc218c",
   "metadata": {},
   "source": [
    "<b>Fatiamento Simples</b>"
   ]
  },
  {
   "cell_type": "code",
   "execution_count": 15,
   "id": "97d53a64",
   "metadata": {},
   "outputs": [
    {
     "name": "stdout",
     "output_type": "stream",
     "text": [
      "Jujutsu\n"
     ]
    }
   ],
   "source": [
    "parte1 = s[0:7]\n",
    "print(parte1)  # Output: \"Jujutsu\""
   ]
  },
  {
   "cell_type": "markdown",
   "id": "bbe99e8b",
   "metadata": {},
   "source": [
    "<b>Omissão do Índice de Início</b>"
   ]
  },
  {
   "cell_type": "code",
   "execution_count": 16,
   "id": "a59ae58a",
   "metadata": {},
   "outputs": [
    {
     "name": "stdout",
     "output_type": "stream",
     "text": [
      "Jujutsu\n"
     ]
    }
   ],
   "source": [
    "parte2 = s[:7]\n",
    "print(parte2)  # Output: \"Jujutsu\""
   ]
  },
  {
   "cell_type": "markdown",
   "id": "ed17b0dc",
   "metadata": {},
   "source": [
    "<b>Omissão do Índice de Fim</b>"
   ]
  },
  {
   "cell_type": "code",
   "execution_count": 17,
   "id": "fb661193",
   "metadata": {},
   "outputs": [
    {
     "name": "stdout",
     "output_type": "stream",
     "text": [
      "Kaisen\n"
     ]
    }
   ],
   "source": [
    "parte3 = s[8:]\n",
    "print(parte3)  # Output: \"Kaisen\""
   ]
  },
  {
   "cell_type": "markdown",
   "id": "ac223a7a",
   "metadata": {},
   "source": [
    "<b>Fatiamento com Passo</b>"
   ]
  },
  {
   "cell_type": "code",
   "execution_count": 18,
   "id": "f58340b7",
   "metadata": {},
   "outputs": [
    {
     "name": "stdout",
     "output_type": "stream",
     "text": [
      "Jjtu\n"
     ]
    }
   ],
   "source": [
    "parte4 = s[0:7:2]\n",
    "print(parte4)  # Output: \"Jjts\""
   ]
  },
  {
   "cell_type": "markdown",
   "id": "2f403658",
   "metadata": {},
   "source": [
    "<b>Omissão de Início e Fim</b>"
   ]
  },
  {
   "cell_type": "code",
   "execution_count": 19,
   "id": "ced0c6ac",
   "metadata": {},
   "outputs": [
    {
     "name": "stdout",
     "output_type": "stream",
     "text": [
      "Jujutsu Kaisen\n"
     ]
    }
   ],
   "source": [
    "parte5 = s[:]\n",
    "print(parte5)  # Output: \"Jujutsu Kaisen\""
   ]
  },
  {
   "cell_type": "markdown",
   "id": "7b988172",
   "metadata": {},
   "source": [
    "<b>Fatiamento com Índices Negativos</b>"
   ]
  },
  {
   "cell_type": "code",
   "execution_count": 20,
   "id": "852e78dc",
   "metadata": {},
   "outputs": [
    {
     "name": "stdout",
     "output_type": "stream",
     "text": [
      "Kaisen\n"
     ]
    }
   ],
   "source": [
    "parte6 = s[-6:]\n",
    "print(parte6)  # Output: \"Kaisen\""
   ]
  },
  {
   "cell_type": "markdown",
   "id": "a92b76d0",
   "metadata": {},
   "source": [
    "<b>Fatiamento Reverso</b>"
   ]
  },
  {
   "cell_type": "code",
   "execution_count": 21,
   "id": "c8d4aa9e",
   "metadata": {},
   "outputs": [
    {
     "name": "stdout",
     "output_type": "stream",
     "text": [
      "nesiaK ustujuJ\n"
     ]
    }
   ],
   "source": [
    "parte7 = s[::-1]\n",
    "print(parte7)  # Output: \"nesiaK ustujuJ\""
   ]
  },
  {
   "cell_type": "markdown",
   "id": "848e6faf",
   "metadata": {},
   "source": [
    "<h1>String Múltiplas Linhas</h1>"
   ]
  },
  {
   "cell_type": "markdown",
   "id": "682efecf",
   "metadata": {},
   "source": [
    "Em Python, você pode criar strings multilinhas usando três pares de aspas simples (''') ou três pares de aspas duplas (\"\"\")."
   ]
  },
  {
   "cell_type": "markdown",
   "id": "67f4f5b1",
   "metadata": {},
   "source": [
    "Exemplo:"
   ]
  },
  {
   "cell_type": "code",
   "execution_count": 22,
   "id": "16354543",
   "metadata": {},
   "outputs": [
    {
     "name": "stdout",
     "output_type": "stream",
     "text": [
      "\n",
      "Só vou te dizer uma coisa, Itadori Yuji. Ser forte por nozes é furada. \n",
      "Você precisa ser forte por causa dos caras ao redor. \n",
      "Palavras óbvias e néscias. Só que tá cheio de caras que não entendem. \n",
      "Eles se tornam fracos por não entenderem.\n",
      "\n"
     ]
    }
   ],
   "source": [
    "gojo_citacao = \"\"\"\n",
    "Só vou te dizer uma coisa, Itadori Yuji. Ser forte por nozes é furada. \n",
    "Você precisa ser forte por causa dos caras ao redor. \n",
    "Palavras óbvias e néscias. Só que tá cheio de caras que não entendem. \n",
    "Eles se tornam fracos por não entenderem.\n",
    "\"\"\"\n",
    "\n",
    "print(gojo_citacao)"
   ]
  }
 ],
 "metadata": {
  "kernelspec": {
   "display_name": "Python 3 (ipykernel)",
   "language": "python",
   "name": "python3"
  },
  "language_info": {
   "codemirror_mode": {
    "name": "ipython",
    "version": 3
   },
   "file_extension": ".py",
   "mimetype": "text/x-python",
   "name": "python",
   "nbconvert_exporter": "python",
   "pygments_lexer": "ipython3",
   "version": "3.8.19"
  }
 },
 "nbformat": 4,
 "nbformat_minor": 5
}
