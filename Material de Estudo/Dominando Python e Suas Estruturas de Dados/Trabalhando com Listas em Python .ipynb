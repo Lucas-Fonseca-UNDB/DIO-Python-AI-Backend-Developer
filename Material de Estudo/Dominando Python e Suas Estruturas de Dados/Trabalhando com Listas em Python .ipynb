{
 "cells": [
  {
   "cell_type": "markdown",
   "id": "5dd7f8be-dd57-4268-b0c8-e2b90c8b48ce",
   "metadata": {},
   "source": [
    "<h2>O que são listas em Python?</h2>"
   ]
  },
  {
   "cell_type": "markdown",
   "id": "375e2c76-ccc3-4160-a173-f4908efda313",
   "metadata": {},
   "source": [
    "Uma lista em Python é uma coleção ordenada de itens que podem ser de diferentes tipos (inteiros, floats, strings, listas, etc.). Uma lista permite armazenar e manipular uma sequência de elementos de forma eficiente."
   ]
  },
  {
   "cell_type": "markdown",
   "id": "7dbae1b0-76cc-41bf-8fbe-d8074c9e7d4e",
   "metadata": {},
   "source": [
    "<h2>Definição</h2>"
   ]
  },
  {
   "cell_type": "markdown",
   "id": "188972b8-16e4-4347-b7b8-713009661e16",
   "metadata": {},
   "source": [
    "Em Python, uma lista é definida usando colchetes [ ], e os itens da lista são separados por vírgulas."
   ]
  },
  {
   "cell_type": "code",
   "execution_count": 1,
   "id": "0bf9b638-9782-4add-8321-adf7fbaf1bb8",
   "metadata": {},
   "outputs": [],
   "source": [
    "minha_lista = [1, 2, 3, \"quatro\", 5.0, True]"
   ]
  },
  {
   "cell_type": "markdown",
   "id": "7e930764-c5ef-4e65-b626-274904875e30",
   "metadata": {},
   "source": [
    "<h2>Características das Listas</h2>\n",
    "<ol>\n",
    "    <li><strong>Ordenadas</strong>: As listas mantêm a ordem dos elementos na sequência em que foram adicionados.</li>\n",
    "    <li><strong>Mutáveis</strong>: Podemos alterar, adicionar e remover elementos após a criação da lista.</li>\n",
    "    <li><strong>Indexadas</strong>: Cada elemento em uma lista tem um índice (posição), começando do 0.</li>\n",
    "</ol>"
   ]
  },
  {
   "cell_type": "markdown",
   "id": "7f1fcba0",
   "metadata": {},
   "source": [
    "<h3>Criando uma Lista</h3>"
   ]
  },
  {
   "cell_type": "code",
   "execution_count": 2,
   "id": "72c542a1",
   "metadata": {},
   "outputs": [],
   "source": [
    "numeros = [1, 2, 3, 4, 5]"
   ]
  },
  {
   "cell_type": "markdown",
   "id": "89d01188-fab2-40ee-8ddc-f1ac5d1307ff",
   "metadata": {},
   "source": [
    "<h3>1. Acessando Elementos da Lista</h3>"
   ]
  },
  {
   "cell_type": "markdown",
   "id": "2980c786-7c5b-47c4-b951-82cfcab1b388",
   "metadata": {},
   "source": [
    "Podemos acessar elementos da lista usando seus índices:"
   ]
  },
  {
   "cell_type": "code",
   "execution_count": 3,
   "id": "30a95301-3ee1-4b27-b579-d5fc125562c0",
   "metadata": {},
   "outputs": [
    {
     "name": "stdout",
     "output_type": "stream",
     "text": [
      "1\n",
      "5\n"
     ]
    }
   ],
   "source": [
    "primeiro_elemento = numeros[0]  \n",
    "print(primeiro_elemento )\n",
    "# Saída: 1\n",
    "\n",
    "ultimo_elemento = numeros[-1]  \n",
    "print(ultimo_elemento)\n",
    "# Saída: 5"
   ]
  },
  {
   "cell_type": "markdown",
   "id": "a5b8a1ab-a5f4-4b0e-9db5-93d03b2cd164",
   "metadata": {},
   "source": [
    "<h3>2. Adiciona um Elemento ao Final da Lista(append)</h3>"
   ]
  },
  {
   "cell_type": "code",
   "execution_count": 4,
   "id": "3ac01354-2c21-4cdf-a7a0-30ee521518de",
   "metadata": {},
   "outputs": [
    {
     "name": "stdout",
     "output_type": "stream",
     "text": [
      "[1, 2, 3, 4, 5, 6]\n"
     ]
    }
   ],
   "source": [
    "numeros.append(6)  \n",
    "print(numeros)\n",
    "#Saída: [1, 2, 3, 4, 5, 6]"
   ]
  },
  {
   "cell_type": "markdown",
   "id": "d3fafa02",
   "metadata": {},
   "source": [
    "<h3>3. Insere um Elemento em uma Posição Específica(insert)</h3>"
   ]
  },
  {
   "cell_type": "code",
   "execution_count": 5,
   "id": "f19807ae",
   "metadata": {},
   "outputs": [
    {
     "name": "stdout",
     "output_type": "stream",
     "text": [
      "[1, 2, 2.5, 3, 4, 5, 6]\n"
     ]
    }
   ],
   "source": [
    "numeros.insert(2, 2.5)\n",
    "print(numeros)  \n",
    "# Saída: [1, 2, 2.5, 3, 4, 5, 6]"
   ]
  },
  {
   "cell_type": "markdown",
   "id": "41a0add5-098f-473a-b533-f5504f88ee78",
   "metadata": {},
   "source": [
    "<h3>4. Adiciona Todos os Elementos de um Iterável ao Final da Lista(extend)</h3>"
   ]
  },
  {
   "cell_type": "code",
   "execution_count": 6,
   "id": "492b6a07-872e-4ca3-bacd-3481d7f73858",
   "metadata": {},
   "outputs": [
    {
     "name": "stdout",
     "output_type": "stream",
     "text": [
      "Lista 1 antes de extend: [1, 2, 3]\n",
      "Lista 1 após extend: [1, 2, 3, 4, 5, 6]\n"
     ]
    }
   ],
   "source": [
    "# Criando duas listas\n",
    "lista1 = [1, 2, 3]\n",
    "lista2 = [4, 5, 6]\n",
    "print(f\"Lista 1 antes de extend: {lista1}\")  # Saída: [1, 2, 3]\n",
    "\n",
    "# Estendendo lista1 com os elementos de lista2\n",
    "lista1.extend(lista2)\n",
    "print(f\"Lista 1 após extend: {lista1}\")  # Saída: [1, 2, 3, 4, 5, 6]\n"
   ]
  },
  {
   "cell_type": "markdown",
   "id": "9353060b-f45e-43d3-a758-75b9121f5b7e",
   "metadata": {},
   "source": [
    "<h3>5. Removendo Elementos da Lista(remove)</h3>"
   ]
  },
  {
   "cell_type": "markdown",
   "id": "0ac3a4a0-7b76-4904-a9a3-77d4cc285adb",
   "metadata": {},
   "source": [
    "Remover pelo valor"
   ]
  },
  {
   "cell_type": "code",
   "execution_count": 7,
   "id": "de99a660-33cb-4333-99f6-22938c37e53c",
   "metadata": {},
   "outputs": [
    {
     "name": "stdout",
     "output_type": "stream",
     "text": [
      "[1, 2, 3, 4, 5, 6]\n"
     ]
    }
   ],
   "source": [
    "numeros.remove(2.5)\n",
    "print(numeros)  \n",
    "#Saída: # [1, 2, 3, 4, 5, 6]"
   ]
  },
  {
   "cell_type": "markdown",
   "id": "5bdafb34-cfc9-4829-874e-cd964077b61b",
   "metadata": {},
   "source": [
    "<h3>6. Remover e Retornar o Elemento em uma Posição Específica(pop)</h3>"
   ]
  },
  {
   "cell_type": "code",
   "execution_count": 8,
   "id": "dfa9f55b-3dca-4105-b1b6-799d8f505268",
   "metadata": {},
   "outputs": [
    {
     "name": "stdout",
     "output_type": "stream",
     "text": [
      "2\n",
      "[1, 3, 4, 5, 6]\n"
     ]
    }
   ],
   "source": [
    "elemento_removido = numeros.pop(1)\n",
    "print(elemento_removido)  # Saída: 2\n",
    "print(numeros)  # Saída: [1, 3, 4, 5, 6]"
   ]
  },
  {
   "cell_type": "markdown",
   "id": "f5594cb1-419e-42d4-97df-2ca65c706a71",
   "metadata": {},
   "source": [
    "<h3>7. Remove Todos os Elementos da Lista(clear)</h3>"
   ]
  },
  {
   "cell_type": "code",
   "execution_count": 9,
   "id": "da685858-1bc8-4d18-8656-0344546609dd",
   "metadata": {},
   "outputs": [
    {
     "name": "stdout",
     "output_type": "stream",
     "text": [
      "Lista original: [1, 2, 3, 4, 5]\n",
      "Lista após clear(): []\n"
     ]
    }
   ],
   "source": [
    "# Criando uma lista com elementos\n",
    "lista = [1, 2, 3, 4, 5]\n",
    "print(f\"Lista original: {lista}\")  # Saída: [1, 2, 3, 4, 5]\n",
    "\n",
    "# Limpando a lista\n",
    "lista.clear()\n",
    "print(f\"Lista após clear(): {lista}\")  # Saída: []"
   ]
  },
  {
   "cell_type": "markdown",
   "id": "8b3b173c-ce75-4eeb-a986-0132a2a2da98",
   "metadata": {},
   "source": [
    "<h3>8. Retorna o Índice da Primeira Ocorrência de um Elemento(index)</h3>"
   ]
  },
  {
   "cell_type": "code",
   "execution_count": 10,
   "id": "f1a2c9ba-ffee-4177-be2b-c42a94bc78ba",
   "metadata": {},
   "outputs": [
    {
     "name": "stdout",
     "output_type": "stream",
     "text": [
      "2\n"
     ]
    }
   ],
   "source": [
    "indice = numeros.index(4)\n",
    "print(indice)  \n",
    "# Saída: 2\r\n"
   ]
  },
  {
   "cell_type": "markdown",
   "id": "026f923d-3929-427e-8aca-01aa7cc017eb",
   "metadata": {},
   "source": [
    "<h3>9. Contar o Número de Vezes que um Elemento Aparece na Lista(count)</h3>"
   ]
  },
  {
   "cell_type": "code",
   "execution_count": 11,
   "id": "bf50368a-d405-4bda-9839-2ed337e53d83",
   "metadata": {},
   "outputs": [
    {
     "name": "stdout",
     "output_type": "stream",
     "text": [
      "1\n"
     ]
    }
   ],
   "source": [
    "contagem = numeros.count(4)\n",
    "print(contagem) \n",
    " # Saída: 1"
   ]
  },
  {
   "cell_type": "markdown",
   "id": "1932f777-9318-4c56-a54a-7d20ed658975",
   "metadata": {},
   "source": [
    "<h3>10. Ordenar os Elementos da Lista(sort)</h3>"
   ]
  },
  {
   "cell_type": "code",
   "execution_count": 12,
   "id": "2dea298d-1ed4-44a9-a651-c7efb13a0531",
   "metadata": {},
   "outputs": [
    {
     "name": "stdout",
     "output_type": "stream",
     "text": [
      "[1, 3, 4, 5, 6]\n"
     ]
    }
   ],
   "source": [
    "numeros.sort()\n",
    "print(numeros)  \n",
    "# Saída: [1, 3, 4, 5, 6]"
   ]
  },
  {
   "cell_type": "markdown",
   "id": "6f086f99-83aa-4873-abfc-66ab35caa22d",
   "metadata": {},
   "source": [
    "<h3>11. Retorna uma Nova Lista Ordenada, sem Modificar a Lista Original(sorted)</h3>"
   ]
  },
  {
   "cell_type": "code",
   "execution_count": 13,
   "id": "2aea7341-24f5-4010-85cb-72b502872bd2",
   "metadata": {},
   "outputs": [
    {
     "name": "stdout",
     "output_type": "stream",
     "text": [
      "Lista original: [3, 1, 4, 1, 5, 9, 2, 6, 5]\n",
      "Lista ordenada: [1, 1, 2, 3, 4, 5, 5, 6, 9]\n",
      "Lista original após sorted: [3, 1, 4, 1, 5, 9, 2, 6, 5]\n",
      "Lista ordenada decrescente: [9, 6, 5, 5, 4, 3, 2, 1, 1]\n"
     ]
    }
   ],
   "source": [
    "# Criando uma lista com elementos desordenados\n",
    "lista = [3, 1, 4, 1, 5, 9, 2, 6, 5]\n",
    "print(f\"Lista original: {lista}\")  # Saída: [3, 1, 4, 1, 5, 9, 2, 6, 5]\n",
    "\n",
    "# Ordenando a lista usando sorted()\n",
    "lista_ordenada = sorted(lista)\n",
    "print(f\"Lista ordenada: {lista_ordenada}\")  # Saída: [1, 1, 2, 3, 4, 5, 5, 6, 9]\n",
    "print(f\"Lista original após sorted: {lista}\")  # Saída: [3, 1, 4, 1, 5, 9, 2, 6, 5]\n",
    "\n",
    "# Ordenando em ordem decrescente\n",
    "lista_ordenada_desc = sorted(lista, reverse=True)\n",
    "print(f\"Lista ordenada decrescente: {lista_ordenada_desc}\")  # Saída: [9, 6, 5, 5, 4, 3, 2, 1, 1]"
   ]
  },
  {
   "cell_type": "markdown",
   "id": "ffb0c3f8-b2f5-4263-a39e-1652bc3b9d94",
   "metadata": {},
   "source": [
    "<h3>12. Reverter a Ordem dos Elementos(reverse)</h3>"
   ]
  },
  {
   "cell_type": "code",
   "execution_count": 14,
   "id": "4fe98753-6f5c-4e94-b8d6-69c1293fa30b",
   "metadata": {},
   "outputs": [
    {
     "name": "stdout",
     "output_type": "stream",
     "text": [
      "[6, 5, 4, 3, 1]\n"
     ]
    }
   ],
   "source": [
    "numeros.reverse()\n",
    "print(numeros)  \n",
    "# Saída: [6, 5, 4, 3, 1]"
   ]
  },
  {
   "cell_type": "markdown",
   "id": "232e6aac-ec33-4d4f-a9ed-6554d6d04c56",
   "metadata": {},
   "source": [
    "<h3>13. Modificação de Itens</h3>"
   ]
  },
  {
   "cell_type": "markdown",
   "id": "ce22e2c1-6c11-4233-9719-c394c3af5973",
   "metadata": {},
   "source": [
    "Modificar um item existente na lista."
   ]
  },
  {
   "cell_type": "code",
   "execution_count": 15,
   "id": "2d39a2af-81d8-4a5c-8a8f-007cdcd8db4d",
   "metadata": {},
   "outputs": [
    {
     "name": "stdout",
     "output_type": "stream",
     "text": [
      "10\n"
     ]
    }
   ],
   "source": [
    "numeros[2] = 10  # Altera o valor 4 para 10\n",
    "print(numeros[2])\n",
    "# Saída: 10"
   ]
  },
  {
   "cell_type": "markdown",
   "id": "f90e33d1-e4b7-4dc9-9f27-f8817c9bdb7c",
   "metadata": {},
   "source": [
    "<h3>14. Iterando Sobre uma Lista</h3>"
   ]
  },
  {
   "cell_type": "markdown",
   "id": "5369e513-8d2b-477e-877d-d0e0d95699d0",
   "metadata": {},
   "source": [
    "Podemos iterar sobre os elementos de uma lista usando um loop for:"
   ]
  },
  {
   "cell_type": "code",
   "execution_count": 16,
   "id": "d60b813d-b9d7-4fd4-b511-d4f2d3e4f2fa",
   "metadata": {},
   "outputs": [
    {
     "name": "stdout",
     "output_type": "stream",
     "text": [
      "6\n",
      "5\n",
      "10\n",
      "3\n",
      "1\n"
     ]
    }
   ],
   "source": [
    "for numero in numeros:\n",
    "    print(numero)"
   ]
  },
  {
   "cell_type": "markdown",
   "id": "c6c7623c-3069-4215-ac49-059d74abf42a",
   "metadata": {},
   "source": [
    "<h3>15. Fatiamento de Listas (Slicing)</h3>"
   ]
  },
  {
   "cell_type": "markdown",
   "id": "8d028558-1bf4-4580-a9aa-885b589711fe",
   "metadata": {},
   "source": [
    "Obter subconjuntos de listas."
   ]
  },
  {
   "cell_type": "code",
   "execution_count": 17,
   "id": "d78e2b2e-5688-458e-807e-c3c431433673",
   "metadata": {},
   "outputs": [
    {
     "name": "stdout",
     "output_type": "stream",
     "text": [
      "[5, 10, 3]\n"
     ]
    }
   ],
   "source": [
    "sublista = numeros[1:4]  \n",
    "print(sublista)\n",
    "# Saída: [5, 10, 3]"
   ]
  },
  {
   "cell_type": "markdown",
   "id": "467ffe7d-45ae-4063-a2ab-1b2e80647108",
   "metadata": {},
   "source": [
    "<h3>16. Verificação de Existência</h3>"
   ]
  },
  {
   "cell_type": "code",
   "execution_count": 18,
   "id": "c71431dc-15ae-4481-a87f-d88b086427f8",
   "metadata": {},
   "outputs": [
    {
     "name": "stdout",
     "output_type": "stream",
     "text": [
      "True\n"
     ]
    }
   ],
   "source": [
    "existe = 10 in numeros  \n",
    "print(existe)\n",
    "# Saída: True"
   ]
  },
  {
   "cell_type": "markdown",
   "id": "9d99253f-b009-419d-9d6a-c41d46c47f52",
   "metadata": {},
   "source": [
    "<h3>17. Comprimento da Lista(len)</h3>"
   ]
  },
  {
   "cell_type": "code",
   "execution_count": 19,
   "id": "1e65f180-4ca1-43b3-8691-201172b96fce",
   "metadata": {},
   "outputs": [
    {
     "name": "stdout",
     "output_type": "stream",
     "text": [
      "5\n"
     ]
    }
   ],
   "source": [
    "tamanho = len(numeros)\n",
    "print(tamanho)\n",
    "#Saída: 5"
   ]
  },
  {
   "cell_type": "markdown",
   "id": "8e783717-bae2-4517-befa-83ffd868d92a",
   "metadata": {},
   "source": [
    "<h3>18. Compreensão de Listas (List Comprehension)</h3>"
   ]
  },
  {
   "cell_type": "markdown",
   "id": "4cd679bd-607e-48a5-8a55-6c40e874d4ed",
   "metadata": {},
   "source": [
    "A compreensão de listas é uma maneira concisa de criar listas. Por exemplo, criar uma lista de quadrados dos números de 1 a 5:"
   ]
  },
  {
   "cell_type": "code",
   "execution_count": 20,
   "id": "e5972c01-3e6a-4b2d-a151-be3052252564",
   "metadata": {},
   "outputs": [
    {
     "name": "stdout",
     "output_type": "stream",
     "text": [
      "[1, 4, 9, 16, 25]\n"
     ]
    }
   ],
   "source": [
    "quadrados = [x**2 for x in range(1, 6)]\n",
    "print(quadrados)  \n",
    "# Saída: [1, 4, 9, 16, 25]"
   ]
  },
  {
   "cell_type": "markdown",
   "id": "ff61a71d-e23e-4ec1-a62e-6b358f99aa69",
   "metadata": {},
   "source": [
    "<h3>19. Aninhamento de Listas</h3>"
   ]
  },
  {
   "cell_type": "markdown",
   "id": "a3fbf0e9-9c55-4278-a804-d54798ad3058",
   "metadata": {},
   "source": [
    "Listas podem conter outras listas (listas aninhadas):"
   ]
  },
  {
   "cell_type": "code",
   "execution_count": 21,
   "id": "29806381-6aab-4b73-804b-144b0b8b3d9e",
   "metadata": {},
   "outputs": [
    {
     "name": "stdout",
     "output_type": "stream",
     "text": [
      "6\n"
     ]
    }
   ],
   "source": [
    "matriz = [\n",
    "    [1, 2, 3], \n",
    "    [4, 5, 6], \n",
    "    [7, 8, 9]\n",
    "]\n",
    "print(matriz[1][2])  \n",
    "# Saída: 6 (elemento na linha 2, coluna 3)"
   ]
  },
  {
   "cell_type": "markdown",
   "id": "2a4926c0-4cd7-4114-b8a8-c6116cbdd7ae",
   "metadata": {},
   "source": [
    "<h3>20. Combinação de Listas</h3>"
   ]
  },
  {
   "cell_type": "markdown",
   "id": "5c5b024c-9d09-48f6-9ada-246ac7f563e3",
   "metadata": {},
   "source": [
    "Concatenar listas."
   ]
  },
  {
   "cell_type": "code",
   "execution_count": 22,
   "id": "ea5d9262-ab2d-4591-aa01-b5ded2f73342",
   "metadata": {},
   "outputs": [
    {
     "name": "stdout",
     "output_type": "stream",
     "text": [
      "[6, 5, 10, 3, 1, 20, 25]\n"
     ]
    }
   ],
   "source": [
    "mais_numeros = [20, 25]\n",
    "todos_numeros = numeros + mais_numeros  \n",
    "print(todos_numeros)\n",
    "#Saída: [6, 5, 10, 3, 1, 20, 25]"
   ]
  },
  {
   "cell_type": "markdown",
   "id": "d97e5bd3-e21d-4d1e-a0e0-78278a6fea07",
   "metadata": {},
   "source": [
    "<h3>21. Cria uma cópia superficial da lista(copy)</h3>"
   ]
  },
  {
   "cell_type": "code",
   "execution_count": 23,
   "id": "9e622954-f84c-472d-a925-264d78dff657",
   "metadata": {},
   "outputs": [
    {
     "name": "stdout",
     "output_type": "stream",
     "text": [
      "Lista original: [1, 2, 3]\n",
      "Lista cópia: [1, 2, 3]\n",
      "Lista cópia após append: [1, 2, 3, 4]\n",
      "Lista original após append na cópia: [1, 2, 3]\n"
     ]
    }
   ],
   "source": [
    "# Criando uma lista original\n",
    "lista_original = [1, 2, 3]\n",
    "print(f\"Lista original: {lista_original}\")  # Saída: [1, 2, 3]\n",
    "\n",
    "# Fazendo uma cópia da lista\n",
    "lista_copia = lista_original.copy()\n",
    "print(f\"Lista cópia: {lista_copia}\")  # Saída: [1, 2, 3]\n",
    "\n",
    "# Modificando a cópia\n",
    "lista_copia.append(4)\n",
    "print(f\"Lista cópia após append: {lista_copia}\")  # Saída: [1, 2, 3, 4]\n",
    "print(f\"Lista original após append na cópia: {lista_original}\")  # Saída: [1, 2, 3]"
   ]
  },
  {
   "cell_type": "markdown",
   "id": "73668a07-8556-43f6-99c0-dbd3faabd4d1",
   "metadata": {},
   "source": [
    "<h3>22. Funções de Mapeamento(map)</h3>"
   ]
  },
  {
   "cell_type": "markdown",
   "id": "df66f077-2679-4e53-9d6f-ce35c48da264",
   "metadata": {},
   "source": [
    "Aplicar uma função a cada item da lista usando map."
   ]
  },
  {
   "cell_type": "code",
   "execution_count": 24,
   "id": "af1f06f3-cd07-430e-89dc-73d14b57059a",
   "metadata": {},
   "outputs": [
    {
     "name": "stdout",
     "output_type": "stream",
     "text": [
      "[2.449489742783178, 2.23606797749979, 3.1622776601683795, 1.7320508075688772, 1.0]\n"
     ]
    }
   ],
   "source": [
    "import math\n",
    "raizes = list(map(math.sqrt, numeros))  \n",
    "print(raizes)\n",
    "#Saída: [2.449489742783178, 2.23606797749979, 3.1622776601683795, 1.7320508075688772, 1.0]"
   ]
  },
  {
   "cell_type": "markdown",
   "id": "237ed19f-66b4-40c7-bd05-c53c9bfe6e3b",
   "metadata": {},
   "source": [
    "<h3>23. Filtragem de Listas(filter)</h3>"
   ]
  },
  {
   "cell_type": "markdown",
   "id": "38d082cb-3ef3-44a9-a93d-0b4e849ec731",
   "metadata": {},
   "source": [
    "Filtrar itens da lista com base em uma condição usando filter."
   ]
  },
  {
   "cell_type": "code",
   "execution_count": 25,
   "id": "76c8da8f-d9c2-4149-97bc-ef86d93a873f",
   "metadata": {},
   "outputs": [
    {
     "name": "stdout",
     "output_type": "stream",
     "text": [
      "[6, 10]\n"
     ]
    }
   ],
   "source": [
    "pares = list(filter(lambda x: x % 2 == 0, numeros))  \n",
    "print(pares)\n",
    "#Saída: [6, 10]"
   ]
  }
 ],
 "metadata": {
  "kernelspec": {
   "display_name": "Python 3 (ipykernel)",
   "language": "python",
   "name": "python3"
  },
  "language_info": {
   "codemirror_mode": {
    "name": "ipython",
    "version": 3
   },
   "file_extension": ".py",
   "mimetype": "text/x-python",
   "name": "python",
   "nbconvert_exporter": "python",
   "pygments_lexer": "ipython3",
   "version": "3.8.19"
  }
 },
 "nbformat": 4,
 "nbformat_minor": 5
}
