{
 "cells": [
  {
   "cell_type": "markdown",
   "id": "0d733613",
   "metadata": {},
   "source": [
    "# Operadores Aritméticos"
   ]
  },
  {
   "cell_type": "code",
   "execution_count": 1,
   "id": "e582b709",
   "metadata": {},
   "outputs": [
    {
     "name": "stdout",
     "output_type": "stream",
     "text": [
      "8\n"
     ]
    }
   ],
   "source": [
    "#Adição (+): Soma dois valores.\n",
    "resultado = 5 + 3  \n",
    "print(resultado) # resultado é 8"
   ]
  },
  {
   "cell_type": "code",
   "execution_count": 2,
   "id": "f62c86ac",
   "metadata": {},
   "outputs": [
    {
     "name": "stdout",
     "output_type": "stream",
     "text": [
      "6\n"
     ]
    }
   ],
   "source": [
    "#Subtração (-): Subtrai o segundo valor do primeiro.\n",
    "resultado = 10 - 4  \n",
    "print(resultado) # resultado é 6"
   ]
  },
  {
   "cell_type": "code",
   "execution_count": 3,
   "id": "a0340cc5",
   "metadata": {},
   "outputs": [
    {
     "name": "stdout",
     "output_type": "stream",
     "text": [
      "42\n"
     ]
    }
   ],
   "source": [
    "#Multiplicação (*): Multiplica dois valores.\n",
    "resultado = 7 * 6  \n",
    "print(resultado) # resultado é 42"
   ]
  },
  {
   "cell_type": "code",
   "execution_count": 4,
   "id": "4721b95c",
   "metadata": {},
   "outputs": [
    {
     "name": "stdout",
     "output_type": "stream",
     "text": [
      "4.0\n"
     ]
    }
   ],
   "source": [
    "#Divisão (/): Divide o primeiro valor pelo segundo (retorna um float).\n",
    "resultado = 8 / 2  \n",
    "print(resultado) # resultado é 4.0"
   ]
  },
  {
   "cell_type": "code",
   "execution_count": 5,
   "id": "1dd613f8",
   "metadata": {},
   "outputs": [
    {
     "name": "stdout",
     "output_type": "stream",
     "text": [
      "4\n"
     ]
    }
   ],
   "source": [
    "#Divisão inteira (//): Divide e arredonda para baixo para o inteiro mais próximo\n",
    "resultado = 9 // 2  \n",
    "print(resultado) # resultado é 4"
   ]
  },
  {
   "cell_type": "code",
   "execution_count": 6,
   "id": "2cc8ece5",
   "metadata": {},
   "outputs": [
    {
     "name": "stdout",
     "output_type": "stream",
     "text": [
      "1\n"
     ]
    }
   ],
   "source": [
    "#Módulo (%): Retorna o resto da divisão.\n",
    "resultado = 10 % 3  \n",
    "print(resultado) # resultado é 1"
   ]
  },
  {
   "cell_type": "code",
   "execution_count": 7,
   "id": "576ffac1",
   "metadata": {},
   "outputs": [
    {
     "name": "stdout",
     "output_type": "stream",
     "text": [
      "8\n"
     ]
    }
   ],
   "source": [
    "#Exponenciação (**): Eleva o primeiro valor à potência do segundo.\n",
    "resultado = 2 ** 3  \n",
    "print(resultado) # resultado é 8"
   ]
  },
  {
   "cell_type": "code",
   "execution_count": 8,
   "id": "057e3174",
   "metadata": {},
   "outputs": [],
   "source": [
    "x = (10 + 5) * 4\n",
    "y = (10 / 2) + (25 * (2 * 2) ** 2)"
   ]
  },
  {
   "cell_type": "code",
   "execution_count": 9,
   "id": "ee21de43",
   "metadata": {},
   "outputs": [
    {
     "name": "stdout",
     "output_type": "stream",
     "text": [
      "60\n",
      "405.0\n"
     ]
    }
   ],
   "source": [
    "print(x)\n",
    "print(y)"
   ]
  },
  {
   "cell_type": "markdown",
   "id": "052f6383",
   "metadata": {},
   "source": [
    "# Operadores de Comparação"
   ]
  },
  {
   "cell_type": "code",
   "execution_count": 10,
   "id": "cb66dc24",
   "metadata": {},
   "outputs": [
    {
     "name": "stdout",
     "output_type": "stream",
     "text": [
      "True\n"
     ]
    }
   ],
   "source": [
    "#Igual a (==): Verifica se dois valores são iguais.\n",
    "resultado = (5 == 5)  \n",
    "print(resultado) # resultado é True"
   ]
  },
  {
   "cell_type": "code",
   "execution_count": 11,
   "id": "f0d2ea3b",
   "metadata": {},
   "outputs": [
    {
     "name": "stdout",
     "output_type": "stream",
     "text": [
      "True\n"
     ]
    }
   ],
   "source": [
    "#Diferente de (!=): Verifica se dois valores são diferentes.\n",
    "resultado = (5 != 3)  \n",
    "print(resultado) # resultado é True"
   ]
  },
  {
   "cell_type": "code",
   "execution_count": 12,
   "id": "24bcb73c",
   "metadata": {},
   "outputs": [
    {
     "name": "stdout",
     "output_type": "stream",
     "text": [
      "True\n"
     ]
    }
   ],
   "source": [
    "#Maior que (>): Verifica se o primeiro valor é maior que o segundo.\n",
    "resultado = (7 > 3)  \n",
    "print(resultado) # resultado é True"
   ]
  },
  {
   "cell_type": "code",
   "execution_count": 13,
   "id": "31be8f7e",
   "metadata": {},
   "outputs": [
    {
     "name": "stdout",
     "output_type": "stream",
     "text": [
      "True\n"
     ]
    }
   ],
   "source": [
    "#Menor que (<): Verifica se o primeiro valor é menor que o segundo.\n",
    "resultado = (4 < 8)  \n",
    "print(resultado) # resultado é True"
   ]
  },
  {
   "cell_type": "code",
   "execution_count": 14,
   "id": "b70e136d",
   "metadata": {},
   "outputs": [
    {
     "name": "stdout",
     "output_type": "stream",
     "text": [
      "True\n"
     ]
    }
   ],
   "source": [
    "#Maior ou igual a (>=): Verifica se o primeiro valor é maior ou igual ao segundo.\n",
    "resultado = (5 >= 5)  \n",
    "print(resultado) # resultado é True"
   ]
  },
  {
   "cell_type": "code",
   "execution_count": 15,
   "id": "6283c0c3",
   "metadata": {},
   "outputs": [
    {
     "name": "stdout",
     "output_type": "stream",
     "text": [
      "True\n"
     ]
    }
   ],
   "source": [
    "#Menor ou igual a (<=): Verifica se o primeiro valor é menor ou igual ao segundo\n",
    "resultado = (3 <= 4)  \n",
    "print(resultado) # resultado é True"
   ]
  },
  {
   "cell_type": "markdown",
   "id": "bffa9a01",
   "metadata": {},
   "source": [
    "# Operadores de Atribuição"
   ]
  },
  {
   "cell_type": "code",
   "execution_count": 16,
   "id": "96afa233",
   "metadata": {},
   "outputs": [
    {
     "name": "stdout",
     "output_type": "stream",
     "text": [
      "5\n"
     ]
    }
   ],
   "source": [
    "#Atribuição (=): Atribui um valor a uma variável.\n",
    "x = 5\n",
    "print(x)"
   ]
  },
  {
   "cell_type": "code",
   "execution_count": 17,
   "id": "d6dc187c",
   "metadata": {},
   "outputs": [
    {
     "name": "stdout",
     "output_type": "stream",
     "text": [
      "8\n"
     ]
    }
   ],
   "source": [
    "#Atribuição com adição (+=): Soma e atribui o valor.\n",
    "x += 3   # x = x + 3 \n",
    "print(x) # x agora é 8 "
   ]
  },
  {
   "cell_type": "code",
   "execution_count": 18,
   "id": "1f82854e",
   "metadata": {},
   "outputs": [
    {
     "name": "stdout",
     "output_type": "stream",
     "text": [
      "6\n"
     ]
    }
   ],
   "source": [
    "#Atribuição com subtração (-=): Subtrai e atribui o valor.\n",
    "x -= 2   # x = x - 2\n",
    "print(x) # x agora é 6"
   ]
  },
  {
   "cell_type": "code",
   "execution_count": 19,
   "id": "ebe4c1e2",
   "metadata": {},
   "outputs": [
    {
     "name": "stdout",
     "output_type": "stream",
     "text": [
      "24\n"
     ]
    }
   ],
   "source": [
    "#Atribuição com multiplicação (*=): Multiplica e atribui o valor.\n",
    "x *= 4   # x = x * 4\n",
    "print(x) # x agora é 24"
   ]
  },
  {
   "cell_type": "code",
   "execution_count": 20,
   "id": "8f48953d",
   "metadata": {},
   "outputs": [
    {
     "name": "stdout",
     "output_type": "stream",
     "text": [
      "12.0\n"
     ]
    }
   ],
   "source": [
    "#Atribuição com divisão (/=): Divide e atribui o valor\n",
    "x /= 2   # x = x / 2\n",
    "print(x) # x agora é 12.0"
   ]
  },
  {
   "cell_type": "code",
   "execution_count": 21,
   "id": "7cd23e65",
   "metadata": {},
   "outputs": [
    {
     "name": "stdout",
     "output_type": "stream",
     "text": [
      "2.0\n"
     ]
    }
   ],
   "source": [
    "#Atribuição com módulo (%=): Calcula o módulo e atribui o valor.\n",
    "x %= 5  # x = x % 5\n",
    "print(x) # x agora é 2"
   ]
  },
  {
   "cell_type": "markdown",
   "id": "72490187",
   "metadata": {},
   "source": [
    "# Operadores Lógicos"
   ]
  },
  {
   "cell_type": "code",
   "execution_count": 22,
   "id": "7d862c61",
   "metadata": {},
   "outputs": [
    {
     "name": "stdout",
     "output_type": "stream",
     "text": [
      "True\n"
     ]
    }
   ],
   "source": [
    "#E lógico (and): Verdadeiro se ambas as condições forem verdadeiras.\n",
    "resultado = (5 > 3 and 6 < 8)  \n",
    "print(resultado) # resultado é True"
   ]
  },
  {
   "cell_type": "markdown",
   "id": "a33ac376",
   "metadata": {},
   "source": [
    "Tabela da verdade E lógico (and)"
   ]
  },
  {
   "cell_type": "code",
   "execution_count": 23,
   "id": "556c78b6",
   "metadata": {},
   "outputs": [
    {
     "name": "stdout",
     "output_type": "stream",
     "text": [
      "True\n",
      "False\n",
      "False\n",
      "False\n"
     ]
    }
   ],
   "source": [
    "print(True and True)  # True  \n",
    "print(True and False) # False\n",
    "print(False and True) # False \n",
    "print(False and False) # False"
   ]
  },
  {
   "cell_type": "code",
   "execution_count": 24,
   "id": "db5604a2",
   "metadata": {},
   "outputs": [
    {
     "name": "stdout",
     "output_type": "stream",
     "text": [
      "True\n"
     ]
    }
   ],
   "source": [
    "#Ou lógico (or): Verdadeiro se pelo menos uma das condições for verdadeira\n",
    "resultado = (5 > 3 or 6 > 8)  \n",
    "print(resultado) # resultado é True"
   ]
  },
  {
   "cell_type": "markdown",
   "id": "9ed88737",
   "metadata": {},
   "source": [
    "Tabela da verdade Ou lógico (or)"
   ]
  },
  {
   "cell_type": "code",
   "execution_count": 25,
   "id": "f83b0e5d",
   "metadata": {},
   "outputs": [
    {
     "name": "stdout",
     "output_type": "stream",
     "text": [
      "True\n",
      "True\n",
      "True\n",
      "False\n"
     ]
    }
   ],
   "source": [
    "print(True or True)  # True  \n",
    "print(True or False) # True\n",
    "print(False or True) # True \n",
    "print(False or False) # False"
   ]
  },
  {
   "cell_type": "code",
   "execution_count": 26,
   "id": "33e5c014",
   "metadata": {
    "scrolled": true
   },
   "outputs": [
    {
     "name": "stdout",
     "output_type": "stream",
     "text": [
      "False\n"
     ]
    }
   ],
   "source": [
    "#Não lógico (not): Inverte o valor lógico.\n",
    "resultado = not (5 > 3)  \n",
    "print(resultado) # resultado é False"
   ]
  },
  {
   "cell_type": "markdown",
   "id": "6155606d",
   "metadata": {},
   "source": [
    "Tabela da verdade Não lógico (not)"
   ]
  },
  {
   "cell_type": "code",
   "execution_count": 27,
   "id": "c1a8e815",
   "metadata": {},
   "outputs": [
    {
     "name": "stdout",
     "output_type": "stream",
     "text": [
      "False\n",
      "True\n"
     ]
    }
   ],
   "source": [
    "print(not True)  # False\n",
    "print(not False) # True"
   ]
  },
  {
   "cell_type": "markdown",
   "id": "f0a4e90e",
   "metadata": {},
   "source": [
    "Ordem de prioridade"
   ]
  },
  {
   "cell_type": "code",
   "execution_count": 28,
   "id": "0904ae25",
   "metadata": {},
   "outputs": [
    {
     "name": "stdout",
     "output_type": "stream",
     "text": [
      "True\n",
      "False\n",
      "True\n",
      "True\n"
     ]
    }
   ],
   "source": [
    "print((True and False) or True)  # True\n",
    "print(not True or False)         # False\n",
    "print(True and not False)        # True\n",
    "print(True or False and False)   # True"
   ]
  },
  {
   "cell_type": "markdown",
   "id": "9b98973d",
   "metadata": {},
   "source": [
    "# Operadores de Identidade"
   ]
  },
  {
   "cell_type": "code",
   "execution_count": 29,
   "id": "8f488513",
   "metadata": {},
   "outputs": [
    {
     "name": "stdout",
     "output_type": "stream",
     "text": [
      "True\n"
     ]
    }
   ],
   "source": [
    "#É (is): Verdadeiro se as variáveis referirem ao mesmo objeto.\n",
    "a = [1, 2, 3]\n",
    "b = a\n",
    "resultado = (a is b)  \n",
    "print(resultado) # resultado é True"
   ]
  },
  {
   "cell_type": "code",
   "execution_count": 30,
   "id": "03d23c29",
   "metadata": {},
   "outputs": [
    {
     "name": "stdout",
     "output_type": "stream",
     "text": [
      "True\n"
     ]
    }
   ],
   "source": [
    "#Não é (is not): Verdadeiro se as variáveis não referirem ao mesmo objeto.\n",
    "c = [1, 2, 3]\n",
    "resultado = (a is not c)  \n",
    "print(resultado) # resultado é True"
   ]
  },
  {
   "cell_type": "markdown",
   "id": "e3a949fd",
   "metadata": {},
   "source": [
    "# Operadores de Associação"
   ]
  },
  {
   "cell_type": "code",
   "execution_count": 31,
   "id": "284cbd97",
   "metadata": {},
   "outputs": [
    {
     "name": "stdout",
     "output_type": "stream",
     "text": [
      "True\n"
     ]
    }
   ],
   "source": [
    "#Pertence (in): Verdadeiro se o valor estiver na sequência.\n",
    "resultado = (2 in [1, 2, 3])  \n",
    "print(resultado) # resultado é True"
   ]
  },
  {
   "cell_type": "code",
   "execution_count": 32,
   "id": "bb0c4bb9",
   "metadata": {},
   "outputs": [
    {
     "name": "stdout",
     "output_type": "stream",
     "text": [
      "True\n"
     ]
    }
   ],
   "source": [
    "#Não pertence (not in): Verdadeiro se o valor não estiver na sequência.\n",
    "resultado = (4 not in [1, 2, 3])  \n",
    "print(resultado) # resultado é True"
   ]
  }
 ],
 "metadata": {
  "kernelspec": {
   "display_name": "Python 3 (ipykernel)",
   "language": "python",
   "name": "python3"
  },
  "language_info": {
   "codemirror_mode": {
    "name": "ipython",
    "version": 3
   },
   "file_extension": ".py",
   "mimetype": "text/x-python",
   "name": "python",
   "nbconvert_exporter": "python",
   "pygments_lexer": "ipython3",
   "version": "3.8.19"
  }
 },
 "nbformat": 4,
 "nbformat_minor": 5
}
