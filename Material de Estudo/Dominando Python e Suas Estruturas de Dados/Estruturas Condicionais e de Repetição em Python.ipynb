{
 "cells": [
  {
   "cell_type": "markdown",
   "id": "b7017e9d",
   "metadata": {},
   "source": [
    "# Indentação"
   ]
  },
  {
   "cell_type": "markdown",
   "id": "777db4f1",
   "metadata": {},
   "source": [
    "Em Python, a indentação é fundamental para definir a estrutura do código. Ela determina quais linhas de código estão dentro de blocos de comando, como loops e condicionais. "
   ]
  },
  {
   "cell_type": "markdown",
   "id": "27f8623b",
   "metadata": {},
   "source": [
    "# Blocos de Comando"
   ]
  },
  {
   "cell_type": "markdown",
   "id": "d82a2d01",
   "metadata": {},
   "source": [
    "Os blocos de comando em Python são delimitados pela indentação e consistem em uma ou mais linhas de código que são executadas juntas."
   ]
  },
  {
   "cell_type": "markdown",
   "id": "cadf1aed",
   "metadata": {},
   "source": [
    "Por exemplo, considere este bloco de comando em Python:"
   ]
  },
  {
   "cell_type": "code",
   "execution_count": 12,
   "id": "99a04411",
   "metadata": {},
   "outputs": [
    {
     "name": "stdout",
     "output_type": "stream",
     "text": [
      "Gojo usa a técnica de jujutsu!\n"
     ]
    }
   ],
   "source": [
    "def usar_tecnica(energia_necessaria: float):  # Início do bloco do método\n",
    "    energia_disponivel = 500  # Energia amaldiçoada disponível\n",
    "    \n",
    "    if energia_disponivel >= energia_necessaria:  # Início do bloco if\n",
    "        print(\"Gojo usa a técnica de jujutsu!\")  # Esta linha está dentro do bloco if\n",
    "    # Fim do bloco if\n",
    "\n",
    "# Fim do bloco do método\n",
    "\n",
    "usar_tecnica(100)  # Chamando o método usar_tecnica com energia necessária de 100\n"
   ]
  },
  {
   "cell_type": "markdown",
   "id": "5ef680af",
   "metadata": {},
   "source": [
    "# Estruturas Condicionais"
   ]
  },
  {
   "cell_type": "markdown",
   "id": "37ce81d9",
   "metadata": {},
   "source": [
    "Em Python, as estruturas condicionais, como o <b>\"if\"</b> e <b>\"else\"</b>, nos permitem tomar decisões com base em condições específicas. Assim como o \"if\" avalia uma condição e executa um bloco de código se essa condição for verdadeira, o \"else\" irá executar de for falsa."
   ]
  },
  {
   "cell_type": "markdown",
   "id": "37def8bd",
   "metadata": {},
   "source": [
    "Por exemplo, considere este bloco de comando em Python:"
   ]
  },
  {
   "cell_type": "code",
   "execution_count": 8,
   "id": "7ccf1494",
   "metadata": {},
   "outputs": [
    {
     "name": "stdout",
     "output_type": "stream",
     "text": [
      "Gojo usará a técnica de Dominação Total!\n"
     ]
    }
   ],
   "source": [
    "inimigo_forte = True\n",
    "\n",
    "if inimigo_forte:\n",
    "    print(\"Gojo usará a técnica de Dominação Total!\")\n",
    "else:\n",
    "    print(\"Gojo usará outra estratégia.\")\n"
   ]
  },
  {
   "cell_type": "markdown",
   "id": "0314425c",
   "metadata": {},
   "source": [
    "Em Python, a estrutura <b>\"elif\"</b> (abreviação de \"else if\") é usada para verificar múltiplas condições em sequência. Ela permite que você encadeie várias verificações de condições após um \"if\" inicial. "
   ]
  },
  {
   "cell_type": "markdown",
   "id": "84c2106c",
   "metadata": {},
   "source": [
    "Por exemplo, considere este bloco de comando em Python:"
   ]
  },
  {
   "cell_type": "code",
   "execution_count": 9,
   "id": "edb729d1",
   "metadata": {},
   "outputs": [
    {
     "name": "stdout",
     "output_type": "stream",
     "text": [
      "Gojo usa uma técnica intermediária.\n"
     ]
    }
   ],
   "source": [
    "nivel_de_ameaca = \"moderado\"\n",
    "\n",
    "if nivel_de_ameaca == \"baixo\":\n",
    "    print(\"Gojo usa uma técnica básica.\")\n",
    "elif nivel_de_ameaca == \"moderado\":\n",
    "    print(\"Gojo usa uma técnica intermediária.\")\n",
    "elif nivel_de_ameaca == \"alto\":\n",
    "    print(\"Gojo usa uma técnica avançada.\")\n",
    "else:\n",
    "    print(\"Gojo usa Dominação Total!\")\n"
   ]
  },
  {
   "cell_type": "markdown",
   "id": "db66f242",
   "metadata": {},
   "source": [
    "<h3><b>If Aninhado</b></h3>"
   ]
  },
  {
   "cell_type": "markdown",
   "id": "3a640c44",
   "metadata": {},
   "source": [
    "Um \"if aninhado\" é quando você coloca uma estrutura \"if\" dentro de outra. Isso pode ser útil para avaliar várias condições em etapas."
   ]
  },
  {
   "cell_type": "markdown",
   "id": "5f3bf369",
   "metadata": {},
   "source": [
    "Por exemplo, considere este bloco de comando em Python:"
   ]
  },
  {
   "cell_type": "code",
   "execution_count": 10,
   "id": "ee123147",
   "metadata": {},
   "outputs": [
    {
     "name": "stdout",
     "output_type": "stream",
     "text": [
      "Gojo usa uma técnica de longo alcance.\n"
     ]
    }
   ],
   "source": [
    "inimigo_forte = True\n",
    "inimigo_perto = False\n",
    "\n",
    "if inimigo_forte:\n",
    "    if inimigo_perto:\n",
    "        print(\"Gojo usa Dominação Total!\")\n",
    "    else:\n",
    "        print(\"Gojo usa uma técnica de longo alcance.\")\n",
    "else:\n",
    "    if inimigo_perto:\n",
    "        print(\"Gojo usa uma técnica básica de curta distância.\")\n",
    "    else:\n",
    "        print(\"Gojo não usa uma técnica específica.\")\n"
   ]
  },
  {
   "cell_type": "markdown",
   "id": "48845ae9",
   "metadata": {},
   "source": [
    "<h3><b>If Ternário</b></h3>"
   ]
  },
  {
   "cell_type": "markdown",
   "id": "307803c5",
   "metadata": {},
   "source": [
    "O \"if ternário\" é uma forma mais compacta de escrever uma estrutura condicional simples. É útil para atribuir valores a uma variável com base em uma condição."
   ]
  },
  {
   "cell_type": "markdown",
   "id": "2f7d05ff",
   "metadata": {},
   "source": [
    "A sintaxe do \"if ternário\" em Python é:"
   ]
  },
  {
   "cell_type": "code",
   "execution_count": null,
   "id": "afa3bded",
   "metadata": {},
   "outputs": [],
   "source": [
    "valor = condição_if_verdadeira if condição else condição_se_falsa"
   ]
  },
  {
   "cell_type": "markdown",
   "id": "653f02fb",
   "metadata": {},
   "source": [
    "Por exemplo, considere este bloco de comando em Python:"
   ]
  },
  {
   "cell_type": "code",
   "execution_count": 11,
   "id": "5fbd9992",
   "metadata": {},
   "outputs": [
    {
     "name": "stdout",
     "output_type": "stream",
     "text": [
      "Dominação Total\n"
     ]
    }
   ],
   "source": [
    "nivel_de_ameaca = \"alto\"\n",
    "\n",
    "tecnica = \"Dominação Total\" if nivel_de_ameaca == \"alto\" else \"Técnica Intermediária\"\n",
    "print(tecnica)\n"
   ]
  },
  {
   "cell_type": "markdown",
   "id": "6b95a37c",
   "metadata": {},
   "source": [
    "# Estruturas de Repetição"
   ]
  },
  {
   "cell_type": "markdown",
   "id": "db249665",
   "metadata": {},
   "source": [
    "As estruturas de repetição são uma parte fundamental da programação. Elas permitem que um conjunto de instruções seja executado repetidamente até que uma condição específica seja atendida. Vamos explorar dois tipos comuns de loops: <b>\"for\"</b> e <b>\"while\"</b>."
   ]
  },
  {
   "cell_type": "markdown",
   "id": "b84cb4e6",
   "metadata": {},
   "source": [
    "<h3>O loop <b>\"for\"</b> é usado quando sabemos, de antemão, quantas vezes queremos executar um bloco de código.</h3>"
   ]
  },
  {
   "cell_type": "markdown",
   "id": "07b0d30c",
   "metadata": {},
   "source": [
    "Por exemplo, considere este bloco de comando em Python:"
   ]
  },
  {
   "cell_type": "code",
   "execution_count": 6,
   "id": "1dec8af9",
   "metadata": {},
   "outputs": [
    {
     "name": "stdout",
     "output_type": "stream",
     "text": [
      "1\n",
      "2\n",
      "3\n",
      "4\n",
      "5\n"
     ]
    }
   ],
   "source": [
    "for i in range(1, 6):  # O range(1, 6) gera os números de 1 a 5\n",
    "    print(i)\n"
   ]
  },
  {
   "cell_type": "markdown",
   "id": "6d33d524",
   "metadata": {},
   "source": [
    "Aqui, o  loop \"for\" vai começar com \"i\" igual a 1 e vai aumentar \"i\" em 1 a cada iteração, até \"i\" ser 6 (mas sem incluir 6)."
   ]
  },
  {
   "cell_type": "markdown",
   "id": "9c95606b",
   "metadata": {},
   "source": [
    "Exemplo: Treino de Jujutsu\n",
    "<br>\n",
    "Imagine que Gojo quer que cada aluno execute um golpe especial 5 vezes."
   ]
  },
  {
   "cell_type": "code",
   "execution_count": 8,
   "id": "d8654027",
   "metadata": {},
   "outputs": [
    {
     "name": "stdout",
     "output_type": "stream",
     "text": [
      "Execute o Golpe 1\n",
      "Execute o Golpe 2\n",
      "Execute o Golpe 3\n",
      "Execute o Golpe 4\n",
      "Execute o Golpe 5\n"
     ]
    }
   ],
   "source": [
    "golpes = [\"Golpe 1\", \"Golpe 2\", \"Golpe 3\", \"Golpe 4\", \"Golpe 5\"]\n",
    "\n",
    "for golpe in golpes:\n",
    "    print(f\"Execute o {golpe}\")\n"
   ]
  },
  {
   "cell_type": "markdown",
   "id": "ac95b565",
   "metadata": {},
   "source": [
    "<h3><b>Função range</b></h3>"
   ]
  },
  {
   "cell_type": "markdown",
   "id": "8109044d",
   "metadata": {},
   "source": [
    "A função range() é usada para gerar uma sequência de números, que é frequentemente usada em loops \"for\".  Ela pode receber um, dois ou três argumentos: start, stop e step."
   ]
  },
  {
   "cell_type": "markdown",
   "id": "d8399000",
   "metadata": {},
   "source": [
    "Exemplo 1: range(stop)"
   ]
  },
  {
   "cell_type": "code",
   "execution_count": 10,
   "id": "d94a957d",
   "metadata": {},
   "outputs": [
    {
     "name": "stdout",
     "output_type": "stream",
     "text": [
      "0\n",
      "1\n",
      "2\n",
      "3\n",
      "4\n"
     ]
    }
   ],
   "source": [
    "for i in range(5):  # Gera os números 0, 1, 2, 3, 4\n",
    "    print(i)\n"
   ]
  },
  {
   "cell_type": "markdown",
   "id": "b9926803",
   "metadata": {},
   "source": [
    "Exemplo 2: range(start, stop)"
   ]
  },
  {
   "cell_type": "code",
   "execution_count": 12,
   "id": "553bbab7",
   "metadata": {},
   "outputs": [
    {
     "name": "stdout",
     "output_type": "stream",
     "text": [
      "2\n",
      "3\n",
      "4\n",
      "5\n",
      "6\n"
     ]
    }
   ],
   "source": [
    "for i in range(2, 7):  # Gera os números 2, 3, 4, 5, 6\n",
    "    print(i)\n"
   ]
  },
  {
   "cell_type": "markdown",
   "id": "084edb77",
   "metadata": {},
   "source": [
    "Exemplo 3: range(start, stop, step)"
   ]
  },
  {
   "cell_type": "code",
   "execution_count": 11,
   "id": "4c7d1459",
   "metadata": {},
   "outputs": [
    {
     "name": "stdout",
     "output_type": "stream",
     "text": [
      "1\n",
      "3\n",
      "5\n",
      "7\n",
      "9\n"
     ]
    }
   ],
   "source": [
    "for i in range(1, 11, 2):  # Gera os números 1, 3, 5, 7, 9\n",
    "    print(i)\n"
   ]
  },
  {
   "cell_type": "markdown",
   "id": "e75c8e50",
   "metadata": {},
   "source": [
    "<h3>O loop <b>\"while\"</b> é usado quando não sabemos exatamente quantas vezes o loop deve rodar, mas sabemos que ele deve continuar enquanto uma condição é verdadeira.</h3>"
   ]
  },
  {
   "cell_type": "markdown",
   "id": "f44d74e5",
   "metadata": {},
   "source": [
    "Por exemplo, considere este bloco de comando em Python:"
   ]
  },
  {
   "cell_type": "code",
   "execution_count": 7,
   "id": "f2aacc16",
   "metadata": {},
   "outputs": [
    {
     "name": "stdout",
     "output_type": "stream",
     "text": [
      "1\n",
      "2\n",
      "3\n",
      "4\n",
      "5\n"
     ]
    }
   ],
   "source": [
    "i = 1  # Começamos com i igual a 1\n",
    "while i <= 5:  # Continuamos enquanto i for menor ou igual a 5\n",
    "    print(i)\n",
    "    i += 1  # Incrementamos i em 1 a cada iteração\n"
   ]
  },
  {
   "cell_type": "markdown",
   "id": "96df1ac7",
   "metadata": {},
   "source": [
    "Aqui, o loop \"while\" continua rodando enquanto a condição \"i\" <= 5 for verdadeira. A cada iteração, aumentamos o valor de \"i\" em 1."
   ]
  },
  {
   "cell_type": "markdown",
   "id": "e24de78d",
   "metadata": {},
   "source": [
    "Exemplo: Treino de Jujutsu\n",
    "<br>\n",
    "Agora, imagine que Gojo quer que os alunos continuem executando golpes até ficarem exaustos. Vamos supor que ficam exaustos após 5 golpes."
   ]
  },
  {
   "cell_type": "code",
   "execution_count": 9,
   "id": "fa88fa82",
   "metadata": {},
   "outputs": [
    {
     "name": "stdout",
     "output_type": "stream",
     "text": [
      "Execute o próximo golpe\n",
      "Execute o próximo golpe\n",
      "Execute o próximo golpe\n",
      "Execute o próximo golpe\n",
      "Execute o próximo golpe\n"
     ]
    }
   ],
   "source": [
    "golpe_count = 0\n",
    "while golpe_count < 5:\n",
    "    print(\"Execute o próximo golpe\")\n",
    "    golpe_count += 1\n"
   ]
  },
  {
   "cell_type": "markdown",
   "id": "d114b8fe",
   "metadata": {},
   "source": [
    "Exemplo: Batalha Contra Feitiços\n",
    "<br>\n",
    "Menu de opções para Gojo Satoru durante uma batalha contra feitiços malignos."
   ]
  },
  {
   "cell_type": "code",
   "execution_count": 19,
   "id": "416fc743",
   "metadata": {},
   "outputs": [
    {
     "name": "stdout",
     "output_type": "stream",
     "text": [
      "===== Menu de Batalha =====\n",
      "\n",
      "[1] Usar Infinite Void\n",
      "[2] Usar Domain Expansion\n",
      "[3] Usar Six Eyes\n",
      "[0] Abandonar Missão\n",
      "\n",
      "Escolha uma opção: 3\n",
      "\n",
      "Gojo está prestes a usar os Six Eyes. Deseja prosseguir? (s/n): s\n",
      "\n",
      "Gojo ativa seus poderosos Six Eyes!\n",
      "Essa habilidade lhe permite ver tudo em um grande alcance e detectar feitiços malignos ocultos.\n",
      "\n",
      "Deseja sair do menu agora? (s/n): s\n",
      "\n",
      "Gojo precisa lidar com uma situação crítica e sai do menu de batalha!\n",
      "\n",
      "Obrigado por usar o Menu de Batalha de Gojo Satoru!\n"
     ]
    }
   ],
   "source": [
    "opcao = -1\n",
    "\n",
    "while True:\n",
    "    print(\"===== Menu de Batalha =====\")\n",
    "    opcao = int(input(\"\\n[1] Usar Infinite Void\\n[2] Usar Domain Expansion\\n[3] Usar Six Eyes\\n[0] Abandonar Missão\\n\\nEscolha uma opção: \"))\n",
    "\n",
    "    if opcao == 1:\n",
    "        resposta = input(\"\\nGojo está prestes a usar o Infinite Void. Deseja prosseguir? (s/n): \").lower()\n",
    "        if resposta == \"n\":\n",
    "            print(\"Gojo decide não usar o Infinite Void neste momento.\")\n",
    "            continue\n",
    "\n",
    "        print(\"\\nGojo cria uma barreira impenetrável ao seu redor com o Infinite Void!\")\n",
    "        print(\"Dentro dessa barreira, ele pode atacar infinitamente sem ser atingido.\")\n",
    "\n",
    "    elif opcao == 2:\n",
    "        resposta = input(\"\\nGojo está prestes a usar o Domain Expansion. Deseja prosseguir? (s/n): \").lower()\n",
    "        if resposta == \"n\":\n",
    "            print(\"Gojo decide não usar o Domain Expansion neste momento.\")\n",
    "            continue\n",
    "\n",
    "        print(\"\\nGojo entra em seu temível Domain Expansion!\")\n",
    "        print(\"Nesse espaço subjugado às suas regras, ele se torna praticamente invencível.\")\n",
    "\n",
    "    elif opcao == 3:\n",
    "        resposta = input(\"\\nGojo está prestes a usar os Six Eyes. Deseja prosseguir? (s/n): \").lower()\n",
    "        if resposta == \"n\":\n",
    "            print(\"Gojo decide não usar os Six Eyes neste momento.\")\n",
    "            continue\n",
    "\n",
    "        print(\"\\nGojo ativa seus poderosos Six Eyes!\")\n",
    "        print(\"Essa habilidade lhe permite ver tudo em um grande alcance e detectar feitiços malignos ocultos.\")\n",
    "\n",
    "    elif opcao == 0:\n",
    "        print(\"\\nGojo decide abandonar a missão por motivos desconhecidos.\")\n",
    "        print(\"Talvez ele precise de um descanso após tantas batalhas intensas.\")\n",
    "        break\n",
    "\n",
    "    else:\n",
    "        print(\"\\nOpção inválida! Por favor, escolha uma opção válida.\")\n",
    "\n",
    "    decisao = input(\"\\nDeseja sair do menu agora? (s/n): \").lower()\n",
    "    if decisao == \"s\":\n",
    "        print(\"\\nGojo precisa lidar com uma situação crítica e sai do menu de batalha!\")\n",
    "        break\n",
    "\n",
    "print(\"\\nObrigado por usar o Menu de Batalha de Gojo Satoru!\")"
   ]
  },
  {
   "cell_type": "markdown",
   "id": "f0c8b034",
   "metadata": {},
   "source": [
    "O uso do <b>break</b> nesse contexto permite que Gojo Satoru saia rapidamente do menu de batalha quando necessário, sem ter que percorrer todas as opções novamente. Essa abordagem torna o código mais flexível e adequado a situações de emergência que um mestre como Gojo possa enfrentar durante suas missões.\n",
    "<br>\n",
    "Ele será perguntado se deseja realmente prosseguir com a técnica escolhida. Se ele digitar <b>\"n\"</b>, a execução da técnica será ignorada usando o <b>continue</b>, e o programa voltará para o início do loop, exibindo o menu novamente."
   ]
  }
 ],
 "metadata": {
  "kernelspec": {
   "display_name": "Python 3 (ipykernel)",
   "language": "python",
   "name": "python3"
  },
  "language_info": {
   "codemirror_mode": {
    "name": "ipython",
    "version": 3
   },
   "file_extension": ".py",
   "mimetype": "text/x-python",
   "name": "python",
   "nbconvert_exporter": "python",
   "pygments_lexer": "ipython3",
   "version": "3.7.1"
  }
 },
 "nbformat": 4,
 "nbformat_minor": 5
}
